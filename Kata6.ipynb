{
 "cells": [
  {
   "cell_type": "markdown",
   "metadata": {},
   "source": [
    "# 1. Crear y usar listas de Python"
   ]
  },
  {
   "cell_type": "code",
   "execution_count": 39,
   "metadata": {},
   "outputs": [
    {
     "name": "stdout",
     "output_type": "stream",
     "text": [
      "['Mercury', 'Venus', 'Earth', 'Mars', 'Jupiter', 'Saturn', 'Urano', 'Neptune']\n",
      "Number of planets:  8\n",
      "\n",
      "\n",
      "['Mercury', 'Venus', 'Earth', 'Mars', 'Jupiter', 'Saturn', 'Urano', 'Neptune', 'Pluto']\n",
      "Number of planets:  9\n"
     ]
    }
   ],
   "source": [
    "# Creating List of planets\n",
    "planets = ['Mercury', 'Venus', 'Earth', 'Mars', 'Jupiter', 'Saturn', 'Urano', 'Neptune']\n",
    "print(planets)\n",
    "print(\"Number of planets: \",len(planets))\n",
    "\n",
    "print(\"\\n\")\n",
    "# Adding pluto\n",
    "planets.append('Pluto')\n",
    "print(planets)\n",
    "print(\"Number of planets: \",len(planets))\n"
   ]
  },
  {
   "cell_type": "markdown",
   "metadata": {},
   "source": [
    "# 2. Trabajando con datos de una lista"
   ]
  },
  {
   "cell_type": "code",
   "execution_count": 44,
   "metadata": {},
   "outputs": [
    {
     "name": "stdout",
     "output_type": "stream",
     "text": [
      "You will write down the name of a planet in the list, but the 'first letter' must be a 'capital letter'.\n",
      "Planets closest to the sun: ['Mercury', 'Venus', 'Earth', 'Mars', 'Jupiter', 'Saturn', 'Uranus'] - Neptune\n",
      "Planets farthest from the sun:, ['Neptune'] - Neptune\n"
     ]
    }
   ],
   "source": [
    "planets = ['Mercury', 'Venus', 'Earth', 'Mars', 'Jupiter', 'Saturn', 'Uranus', 'Neptune']\n",
    "\n",
    "# Getting name\n",
    "print(\"\"\"You will write down the name of a planet in the list, but the 'first letter' \\\n",
    "must be a 'capital letter'.\"\"\")\n",
    "\n",
    "name_planet = input(\"Write the name of one planet that's in the List: \")\n",
    "planet_index = planets.index(name_planet)\n",
    "\n",
    "print(f\"Planets closest to the sun: {planets[0:planet_index]} - {name_planet}\")\n",
    "\n",
    "print(f\"Planets farthest from the sun:, {planets[planet_index + 1:]} - {name_planet}\")\n",
    "\n",
    "# print(f\"{name_planet} is the, {real_position}, planet closer to the sun.\")\n",
    "\n",
    "\n",
    "\n",
    "\n"
   ]
  }
 ],
 "metadata": {
  "interpreter": {
   "hash": "33541a670e8887513ebdf0f19cec6625b51694c5ef6b1c7e83282c54d5cd54e5"
  },
  "kernelspec": {
   "display_name": "Python 3.10.0 64-bit",
   "language": "python",
   "name": "python3"
  },
  "language_info": {
   "codemirror_mode": {
    "name": "ipython",
    "version": 3
   },
   "file_extension": ".py",
   "mimetype": "text/x-python",
   "name": "python",
   "nbconvert_exporter": "python",
   "pygments_lexer": "ipython3",
   "version": "3.10.0"
  },
  "orig_nbformat": 4
 },
 "nbformat": 4,
 "nbformat_minor": 2
}
