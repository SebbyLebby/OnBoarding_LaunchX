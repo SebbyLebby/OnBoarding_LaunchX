{
 "cells": [
  {
   "cell_type": "markdown",
   "metadata": {},
   "source": [
    "# 1. Uso de ciclos \"while\" en Python"
   ]
  },
  {
   "cell_type": "code",
   "execution_count": 6,
   "metadata": {},
   "outputs": [
    {
     "name": "stdout",
     "output_type": "stream",
     "text": [
      "['Venus', 'Mars', 'Earth']\n"
     ]
    }
   ],
   "source": [
    "# Variables\n",
    "new_planet = input(\"Write the name of the planet (Ex: Mars, Venus,...):\")\n",
    "planets = []\n",
    "\n",
    "# 'While' loop\n",
    "while new_planet != 'done':\n",
    "    planets.append(new_planet)\n",
    "    new_planet = input(\"Write another planet or write 'done' if you've finished:\")\n",
    "\n",
    "# Final List of planets.\n",
    "print(planets)"
   ]
  },
  {
   "cell_type": "markdown",
   "metadata": {},
   "source": [
    "# 2. Creación de un ciclo \"for\""
   ]
  },
  {
   "cell_type": "code",
   "execution_count": 7,
   "metadata": {},
   "outputs": [
    {
     "name": "stdout",
     "output_type": "stream",
     "text": [
      "Venus\n",
      "Mars\n",
      "Earth\n"
     ]
    }
   ],
   "source": [
    "# Writing each name of the planet with a \"for\" loop.\n",
    "for planet in planets:\n",
    "    print(planet)"
   ]
  }
 ],
 "metadata": {
  "interpreter": {
   "hash": "33541a670e8887513ebdf0f19cec6625b51694c5ef6b1c7e83282c54d5cd54e5"
  },
  "kernelspec": {
   "display_name": "Python 3.10.0 64-bit",
   "language": "python",
   "name": "python3"
  },
  "language_info": {
   "codemirror_mode": {
    "name": "ipython",
    "version": 3
   },
   "file_extension": ".py",
   "mimetype": "text/x-python",
   "name": "python",
   "nbconvert_exporter": "python",
   "pygments_lexer": "ipython3",
   "version": "3.10.0"
  },
  "orig_nbformat": 4
 },
 "nbformat": 4,
 "nbformat_minor": 2
}
