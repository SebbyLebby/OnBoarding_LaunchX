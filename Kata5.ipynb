{
 "cells": [
  {
   "cell_type": "markdown",
   "metadata": {},
   "source": [
    "# 1. Utilizar operadores matemáticos"
   ]
  },
  {
   "cell_type": "code",
   "execution_count": 12,
   "metadata": {},
   "outputs": [
    {
     "name": "stdout",
     "output_type": "stream",
     "text": [
      "The distance between Earth - Jupiter: 628949330 km\n",
      "The distance between Earth - Jupiter: 390577533.93 miles\n"
     ]
    }
   ],
   "source": [
    "# Calculating distance between Earth - Jupiter\n",
    "distance_earth = 149597870\n",
    "distance_jupiter = 778547200 \n",
    "distance = distance_jupiter - distance_earth # Operation to get distance\n",
    "\n",
    "print(\"The distance between Earth - Jupiter: %s km\" %(distance))\n",
    "\n",
    "# Converting to miles\n",
    "conversion = distance * 0.621\n",
    "print(\"The distance between Earth - Jupiter: %s miles\" %(conversion))"
   ]
  },
  {
   "cell_type": "markdown",
   "metadata": {},
   "source": [
    "# 2. Convierte cadenas en números y usa valores absoluto"
   ]
  },
  {
   "cell_type": "code",
   "execution_count": 11,
   "metadata": {},
   "outputs": [
    {
     "name": "stdout",
     "output_type": "stream",
     "text": [
      "Distance = 629000000 km\n",
      "Distance = 390609000.0 miles\n"
     ]
    }
   ],
   "source": [
    "# Storing user entries\n",
    "import numpy as np\n",
    "\n",
    "# Obtaining distances of two planets\n",
    "distance_planet1 = int(input(\"Write the distance from the sun of one planet:\\n\")) # Turning 'str' - 'int\n",
    "distance_planet2 = int(input(\"Write the distance from the sun of one planet:\")) # Turning 'str' - 'int\n",
    "\n",
    "# Calculations\n",
    "# Absolute value is necessary, otherwise, result will be negative\n",
    "total_distancekm = np.abs(distance_planet1 - distance_planet2) # Distance in kilometers\n",
    "print(\"Distance = %s km\" %(total_distancekm))\n",
    "# Conversion to miles\n",
    "total_distancem = total_distancekm * 0.621\n",
    "print(\"Distance = %s miles\" %(total_distancem))\n",
    "\n"
   ]
  }
 ],
 "metadata": {
  "interpreter": {
   "hash": "33541a670e8887513ebdf0f19cec6625b51694c5ef6b1c7e83282c54d5cd54e5"
  },
  "kernelspec": {
   "display_name": "Python 3.10.0 64-bit",
   "language": "python",
   "name": "python3"
  },
  "language_info": {
   "codemirror_mode": {
    "name": "ipython",
    "version": 3
   },
   "file_extension": ".py",
   "mimetype": "text/x-python",
   "name": "python",
   "nbconvert_exporter": "python",
   "pygments_lexer": "ipython3",
   "version": "3.10.0"
  },
  "orig_nbformat": 4
 },
 "nbformat": 4,
 "nbformat_minor": 2
}
