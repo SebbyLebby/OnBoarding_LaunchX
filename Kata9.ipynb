{
 "cells": [
  {
   "cell_type": "markdown",
   "metadata": {},
   "source": [
    "# 1. Trabajar con argumentos en funciones"
   ]
  },
  {
   "cell_type": "code",
   "execution_count": 147,
   "metadata": {},
   "outputs": [],
   "source": [
    "def fuel_tank(tank1, tank2, tank3):\n",
    "    total_fuel = tank1 + tank2 + tank3\n",
    "    average_fuel = total_fuel / 3\n",
    "    \n",
    "    return print(f\"Tank 1: {tank1}, Tank 2: {tank2}, Tank 3: {tank3}\\nTotal fuel: {total_fuel}\\\n",
    "        \\nAverage fuel that will be used: {average_fuel}\\nStand by for further instructions...\")\n",
    "\n",
    "tank1 = int(input(\"Write the amount of gas for the tank 1:\"))\n",
    "tank2 = int(input(\"Write the amount of gas for the tank 2:\"))\n",
    "tank3 = int(input(\"Write the amount of gas for the tank 3:\"))"
   ]
  },
  {
   "cell_type": "code",
   "execution_count": 148,
   "metadata": {},
   "outputs": [
    {
     "name": "stdout",
     "output_type": "stream",
     "text": [
      "Tank 1: 450, Tank 2: 300, Tank 3: 150\n",
      "Total fuel: 900        \n",
      "Average fuel that will be used: 300.0\n",
      "Stand by for further instructions...\n"
     ]
    }
   ],
   "source": [
    "# Getting report\n",
    "fuel_tank(tank1,tank2,tank3)"
   ]
  },
  {
   "cell_type": "code",
   "execution_count": 150,
   "metadata": {},
   "outputs": [
    {
     "name": "stdout",
     "output_type": "stream",
     "text": [
      "300.0\n"
     ]
    }
   ],
   "source": [
    "def average(full_gas):\n",
    "    total_gas = sum(full_gas)\n",
    "    average_gas = total_gas / len(full_gas)\n",
    "    return average_gas\n",
    "    \n",
    "full_gas = [tank1, tank2, tank3]\n",
    "print(average(full_gas))"
   ]
  },
  {
   "cell_type": "code",
   "execution_count": 154,
   "metadata": {},
   "outputs": [
    {
     "name": "stdout",
     "output_type": "stream",
     "text": [
      "\n",
      "    Tank 1: 450, Tank 2: 300, Tank 3: 150\n",
      "    Total fuel: 900\n",
      "    Average fuel that will be used: 300.0\n",
      "    Stand by for further instructions...\n"
     ]
    }
   ],
   "source": [
    "def fuel_tank(tank1, tank2, tank3):\n",
    "    total_fuel = tank1 + tank2 + tank3\n",
    "    \n",
    "    return f\"\"\"\n",
    "    Tank 1: {tank1}, Tank 2: {tank2}, Tank 3: {tank3}\n",
    "    Total fuel: {total_fuel}\n",
    "    Average fuel that will be used: {average(full_gas)}\n",
    "    Stand by for further instructions...\"\"\"\n",
    "\n",
    "print(fuel_tank(tank1,tank2,tank3))"
   ]
  },
  {
   "cell_type": "markdown",
   "metadata": {},
   "source": [
    "# 2. Trabajo con argumentos de palabra clave"
   ]
  },
  {
   "cell_type": "code",
   "execution_count": 123,
   "metadata": {},
   "outputs": [
    {
     "name": "stdout",
     "output_type": "stream",
     "text": [
      "Mission starts: 2022-02-15 15:37:57.893408\n",
      "Destination: 'Moon'\n",
      "Estimated prelaunch time: 10 minutes.\n",
      "Estimated flight time: 40 minutes.\n",
      "Total travel time: 50 minutes.\n",
      "---------------------------\n",
      "Ship status report:\n",
      "Number of external tanks = 6\n",
      "Number of internal tanks = 3\n"
     ]
    }
   ],
   "source": [
    "# Función con un informe preciso de la misión. Considera hora de prelanzamiento, \n",
    "# tiempo de vuelo, destino, tanque externo y tanque interno\n",
    "\n",
    "from datetime import timedelta, datetime\n",
    "\n",
    "\n",
    "\n",
    "def mission_report(prelaunch_time = 10, flight_time= 40, destination = 'Moon', external_tank = 6, internal_tank = 3):\n",
    "    today = datetime.now() # class datetime.timedelta([days[, seconds[, microseconds[, milliseconds[, minutes[, hours[, weeks]]]]]]])\n",
    "    travel_time = prelaunch_time + flight_time\n",
    "    return print(f\"Mission starts: {today}\\nDestination: '{destination}'\\nEstimated prelaunch time: {prelaunch_time} minutes.\\n\\\n",
    "Estimated flight time: {flight_time} minutes.\\nTotal travel time: {travel_time} minutes.\\n---------------------------\\n\\\n",
    "Ship status report:\\nNumber of external tanks = {external_tank}\\nNumber of internal tanks = {internal_tank}\")\n",
    "\n",
    "\n",
    "mission_report()"
   ]
  },
  {
   "cell_type": "code",
   "execution_count": 155,
   "metadata": {},
   "outputs": [
    {
     "name": "stdout",
     "output_type": "stream",
     "text": [
      "Mission starts: 2022-02-15 15:58:28.819530\n",
      "Destination: 'Moon'\n",
      "Total travel time: 65 minutes.        \n",
      "Total fuel left: 15500000\n"
     ]
    }
   ],
   "source": [
    "def mission_report(destination, *minutes, **fuel_tanks):\n",
    "    today = datetime.now()\n",
    "    return print(f\"Mission starts: {today}\\nDestination: '{destination}'\\nTotal travel time: {sum(times)} minutes.\\\n",
    "        \\nTotal fuel left: {sum(fuel_tanks.values())}\")\n",
    "\n",
    "# Gattering minutes of multiple stages in the mission\n",
    "times = []\n",
    "number = ''\n",
    "\n",
    "# Writing the multiple desired minutes\n",
    "while number != 'done':\n",
    "    number = input('Write the number of minutes of each stage (write \"done\" to end process):')\n",
    "    times.append(number)\n",
    "  \n",
    "times.pop(-1)\n",
    "position = 0\n",
    "\n",
    "# Converting all strings in list to integers\n",
    "for i in times:\n",
    "    times [position] = int(times[position])\n",
    "    position += 1\n",
    "# print(times)\n",
    "\n",
    "mission_report('Moon', times, main_tank = 15000000, reservoir_tank = 500000)"
   ]
  },
  {
   "cell_type": "code",
   "execution_count": 156,
   "metadata": {},
   "outputs": [
    {
     "name": "stdout",
     "output_type": "stream",
     "text": [
      "\n",
      "    Mission starts: 2022-02-15 15:59:32.427086\n",
      "    Destination: 'Moon'\n",
      "    Total travel time: 65 minutes.\n",
      "    Total fuel left:15500000\n",
      "    main_tank - Fuel:15000000\n",
      "reservoir_tank - Fuel:500000\n",
      "\n"
     ]
    }
   ],
   "source": [
    "def mission_report(destination, *minutes, **fuel_tanks):\n",
    "    today = datetime.now()\n",
    "    main = f\"\"\"\n",
    "    Mission starts: {today}\n",
    "    Destination: '{destination}'\n",
    "    Total travel time: {sum(times)} minutes.\n",
    "    Total fuel left:{sum(fuel_tanks.values())}\n",
    "    \"\"\"\n",
    "\n",
    "    for (tank, fuel) in fuel_tanks.items():\n",
    "        main = main + f\"{tank} - Fuel:{fuel}\\n\"\n",
    "    return main\n",
    "\n",
    "\n",
    "\n",
    "\n",
    "# Gattering minutes of multiple stages in the mission\n",
    "times = []\n",
    "number = ''\n",
    "\n",
    "# Writing the multiple desired minutes\n",
    "while number != 'done':\n",
    "    number = input('Write the number of minutes of each stage (write \"done\" to end process):')\n",
    "    times.append(number)\n",
    "  \n",
    "times.pop(-1)\n",
    "position = 0\n",
    "\n",
    "# Converting all strings in list to integers\n",
    "for i in times:\n",
    "    times [position] = int(times[position])\n",
    "    position += 1\n",
    "# print(times)\n",
    "\n",
    "\n",
    "print(mission_report('Moon', times, main_tank = 15000000, reservoir_tank = 500000))"
   ]
  }
 ],
 "metadata": {
  "interpreter": {
   "hash": "33541a670e8887513ebdf0f19cec6625b51694c5ef6b1c7e83282c54d5cd54e5"
  },
  "kernelspec": {
   "display_name": "Python 3.10.0 64-bit",
   "language": "python",
   "name": "python3"
  },
  "language_info": {
   "codemirror_mode": {
    "name": "ipython",
    "version": 3
   },
   "file_extension": ".py",
   "mimetype": "text/x-python",
   "name": "python",
   "nbconvert_exporter": "python",
   "pygments_lexer": "ipython3",
   "version": "3.10.0"
  },
  "orig_nbformat": 4
 },
 "nbformat": 4,
 "nbformat_minor": 2
}
