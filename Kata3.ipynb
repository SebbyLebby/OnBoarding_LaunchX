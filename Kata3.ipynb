{
 "cells": [
  {
   "cell_type": "markdown",
   "metadata": {},
   "source": [
    "# 1. Un asteroide cerca del sol..."
   ]
  },
  {
   "cell_type": "code",
   "execution_count": 9,
   "metadata": {},
   "outputs": [
    {
     "name": "stdout",
     "output_type": "stream",
     "text": [
      "WARNING! We have detected an asteroid, nearby.\n"
     ]
    }
   ],
   "source": [
    "vel_asteroid1 = 49\n",
    "\n",
    "if vel_asteroid1 > 25:\n",
    "    print(\"WARNING! We have detected an asteroid, nearby.\")\n",
    "\n",
    "else: print(\"Just another day in paradise...\")"
   ]
  },
  {
   "cell_type": "markdown",
   "metadata": {},
   "source": [
    "# 2. El asteroide puede producir un rayo de luz..."
   ]
  },
  {
   "cell_type": "code",
   "execution_count": 10,
   "metadata": {},
   "outputs": [
    {
     "name": "stdout",
     "output_type": "stream",
     "text": [
      "Everything is ok!\n"
     ]
    }
   ],
   "source": [
    "vel_asteroid = 19\n",
    "\n",
    "if vel_asteroid >= 20:\n",
    "    print(\"There's a light up in the sky!\")\n",
    "\n",
    "else: print(\"Everything is ok!\")"
   ]
  },
  {
   "cell_type": "markdown",
   "metadata": {},
   "source": [
    "# 3. La dimensión de los asteroides..."
   ]
  },
  {
   "cell_type": "code",
   "execution_count": 2,
   "metadata": {},
   "outputs": [
    {
     "name": "stdout",
     "output_type": "stream",
     "text": [
      "Asteroid size:  10\n",
      "Asteroid size:  10\n",
      "Don't worry. The asteroid will get burned when it enters the atmosphere.\n",
      "There's nothing in the sky...\n"
     ]
    }
   ],
   "source": [
    "# Datos del asteroide\n",
    "\n",
    "asteroid_size = int(input(\"Enter the size of the asteroid:\"))\n",
    "print(\"Asteroid size: \", asteroid_size)\n",
    "asteroid_vel = int(input(\"Enter asteroid's velocity:\"))\n",
    "print(\"Asteroid size: \", asteroid_vel)\n",
    "\n",
    "# Dimensión\n",
    "if asteroid_size < 1000 and asteroid_size > 25:\n",
    "    print(\"WARNING!, .\")\n",
    "\n",
    "elif asteroid_size < 25:\n",
    "    print(\"Don't worry. The asteroid will get burned when it enters the atmosphere.\")\n",
    "\n",
    "elif asteroid_size >1000:\n",
    "    print(\"Doomsday is here\")\n",
    "\n",
    "else: print(\"Something is wrong.\")\n",
    "\n",
    "# Velocidad\n",
    "\n",
    "if asteroid_vel >= 20:\n",
    "    print(\"WARNING! There's a light up in the sky!\")\n",
    "    \n",
    "    if asteroid_vel > 25:\n",
    "        print(\"WARNING! We have detected an asteroid, nearby.\")\n",
    "    \n",
    "else: print(\"There's nothing in the sky...\")"
   ]
  }
 ],
 "metadata": {
  "interpreter": {
   "hash": "33541a670e8887513ebdf0f19cec6625b51694c5ef6b1c7e83282c54d5cd54e5"
  },
  "kernelspec": {
   "display_name": "Python 3.10.0 64-bit",
   "language": "python",
   "name": "python3"
  },
  "language_info": {
   "codemirror_mode": {
    "name": "ipython",
    "version": 3
   },
   "file_extension": ".py",
   "mimetype": "text/x-python",
   "name": "python",
   "nbconvert_exporter": "python",
   "pygments_lexer": "ipython3",
   "version": "3.10.0"
  },
  "orig_nbformat": 4
 },
 "nbformat": 4,
 "nbformat_minor": 2
}
