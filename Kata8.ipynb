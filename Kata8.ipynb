{
 "cells": [
  {
   "cell_type": "markdown",
   "metadata": {},
   "source": [
    "# 1. Creación de diccionarios en Python"
   ]
  },
  {
   "cell_type": "code",
   "execution_count": 50,
   "metadata": {},
   "outputs": [
    {
     "name": "stdout",
     "output_type": "stream",
     "text": [
      "{'name': 'Mars', 'moons': '2'}\n",
      "Mars has 2 moons in total.\n"
     ]
    }
   ],
   "source": [
    "# Creating new dictionary\n",
    "\n",
    "planet = {'name': 'Mars', 'moons': '2'}\n",
    "print(planet)\n",
    "\n",
    "name_planet = planet.get('name')\n",
    "name_moon = planet.get('moons')\n",
    "\n",
    "print(\"%s has %s moons in total.\" %(name_planet, name_moon))\n"
   ]
  },
  {
   "cell_type": "code",
   "execution_count": 51,
   "metadata": {},
   "outputs": [
    {
     "name": "stdout",
     "output_type": "stream",
     "text": [
      "Mars has a polar circumference of 6752km.\n"
     ]
    }
   ],
   "source": [
    "# Updating dictionary with new keys and values\n",
    "planet.update({'polar': 6752})\n",
    "planet.update({'equatorial': 6792})\n",
    "\n",
    "polar_circumference = planet.get('polar') # Storing polar circumference in variable to display it\n",
    "\n",
    "print(\"%s has a polar circumference of %skm.\" %(name_planet, polar_circumference))"
   ]
  },
  {
   "cell_type": "markdown",
   "metadata": {},
   "source": [
    "# 2. Programación dinámica con diccionarios"
   ]
  },
  {
   "cell_type": "code",
   "execution_count": 56,
   "metadata": {},
   "outputs": [
    {
     "name": "stdout",
     "output_type": "stream",
     "text": [
      "Total number of planets: 12\n",
      "dict_values([0, 0, 1, 2, 79, 82, 27, 14, 5, 2, 1, 1])\n",
      "The number of total moons is: 214\n",
      "Average of moons per planet: 17.833333333333332\n"
     ]
    }
   ],
   "source": [
    "# Creating a planet moons dictionary\n",
    "\n",
    "planet_moons = {\n",
    "    'mercury': 0,\n",
    "    'venus': 0,\n",
    "    'earth': 1,\n",
    "    'mars': 2,\n",
    "    'jupiter': 79,\n",
    "    'saturn': 82,\n",
    "    'uranus': 27,\n",
    "    'neptune': 14,\n",
    "    'pluto': 5,\n",
    "    'haumea': 2,\n",
    "    'makemake': 1,\n",
    "    'eris': 1\n",
    "}\n",
    "\n",
    "\n",
    "planets = len(planet_moons.keys())\n",
    "print(\"Total number of planets:\", planets)\n",
    "moons = planet_moons.values()\n",
    "print(moons)\n",
    "\n",
    "# Getting the total number of moons\n",
    "total_moons = 0 # Moon counter\n",
    "\n",
    "for value in planet_moons.values():\n",
    "    total_moons = total_moons + value # Adding values to the Moon counter\n",
    "\n",
    "average = total_moons / planets\n",
    "\n",
    "# Displaying the total number of moons and average\n",
    "print(\"The number of total moons is:\", total_moons)\n",
    "print(\"Average of moons per planet:\", average)\n",
    "\n",
    "\n"
   ]
  }
 ],
 "metadata": {
  "interpreter": {
   "hash": "33541a670e8887513ebdf0f19cec6625b51694c5ef6b1c7e83282c54d5cd54e5"
  },
  "kernelspec": {
   "display_name": "Python 3.10.0 64-bit",
   "language": "python",
   "name": "python3"
  },
  "language_info": {
   "codemirror_mode": {
    "name": "ipython",
    "version": 3
   },
   "file_extension": ".py",
   "mimetype": "text/x-python",
   "name": "python",
   "nbconvert_exporter": "python",
   "pygments_lexer": "ipython3",
   "version": "3.10.0"
  },
  "orig_nbformat": 4
 },
 "nbformat": 4,
 "nbformat_minor": 2
}
