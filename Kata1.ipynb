{
 "cells": [
  {
   "cell_type": "markdown",
   "metadata": {},
   "source": [
    "# My first program"
   ]
  },
  {
   "cell_type": "code",
   "execution_count": 18,
   "metadata": {},
   "outputs": [
    {
     "name": "stdout",
     "output_type": "stream",
     "text": [
      "Today's date is: 2022-02-08\n",
      "<class 'datetime.date'>\n"
     ]
    }
   ],
   "source": [
    "# Fecha de bitácora\n",
    "from datetime import date\n",
    "\n",
    "fecha = date.today() # Otorga la fecha del día de hoy.\n",
    "# print(\"La fecha de hoy es:\", fecha) # string, then datetime.date\n",
    "print(\"Today's date is: \" + str(date.today())) # Para concatenar se debe transformar 'datetime.date' -> 'string'.\n",
    "print(type(fecha)) # Es otro tipo de dato:'datetime.date'"
   ]
  },
  {
   "cell_type": "markdown",
   "metadata": {},
   "source": [
    "Conversión de parsecs a años luz"
   ]
  },
  {
   "cell_type": "code",
   "execution_count": 17,
   "metadata": {},
   "outputs": [
    {
     "name": "stdout",
     "output_type": "stream",
     "text": [
      "Welcome to the parsec - lightyear converter\n",
      "Conversión lista: 11.0 parsec, is 35.877159999999996 lighteyears!\n"
     ]
    }
   ],
   "source": [
    "# 1 parsec = 3.26156 lightyears\n",
    "print(\"Welcome to the parsec - lightyear converter\")\n",
    "parsec = float(input(\"Insert the number of parsecs:\")) # Se convierte de 'string' a 'float' para realizar operación.\n",
    "lightyear = 3.26156\n",
    "conversion = parsec * lightyear # Realizando conversión\n",
    "print(\"Conversión lista: \" + str(parsec) + \" parsec, is \" + str(conversion) + \" lighteyears!\")"
   ]
  }
 ],
 "metadata": {
  "interpreter": {
   "hash": "33541a670e8887513ebdf0f19cec6625b51694c5ef6b1c7e83282c54d5cd54e5"
  },
  "kernelspec": {
   "display_name": "Python 3.10.0 64-bit",
   "language": "python",
   "name": "python3"
  },
  "language_info": {
   "codemirror_mode": {
    "name": "ipython",
    "version": 3
   },
   "file_extension": ".py",
   "mimetype": "text/x-python",
   "name": "python",
   "nbconvert_exporter": "python",
   "pygments_lexer": "ipython3",
   "version": "3.10.0"
  },
  "orig_nbformat": 4
 },
 "nbformat": 4,
 "nbformat_minor": 2
}
