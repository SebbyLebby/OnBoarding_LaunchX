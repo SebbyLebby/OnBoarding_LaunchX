{
 "cells": [
  {
   "cell_type": "markdown",
   "metadata": {},
   "source": [
    "# 1. Transformar cadenas"
   ]
  },
  {
   "cell_type": "code",
   "execution_count": 7,
   "metadata": {},
   "outputs": [],
   "source": [
    "text = \"\"\"Interesting facts about the Moon. The Moon is Earth's only satellite. There are several interesting facts about the Moon and how it affects life here on Earth. On average, the Moon moves 4cm away from the Earth every year. This yearly drift is not significant enough to cause immediate effects on Earth. The highest daylight temperature of the Moon is 127 C.\"\"\""
   ]
  },
  {
   "cell_type": "code",
   "execution_count": 10,
   "metadata": {},
   "outputs": [
    {
     "name": "stdout",
     "output_type": "stream",
     "text": [
      "\n",
      "There are 6 sentences in total.\n",
      "\n",
      "On average, the Moon moves 4cm away from the Earth every year\n",
      "The highest daylight temperature of the Moon is 127 C.\n",
      "\n",
      "The highest daylight temperature of the Moon is 127 Celsius.\n"
     ]
    }
   ],
   "source": [
    "# Splitting text\n",
    "sentences = text.split('. ') # '.' To specify where the method is going to split\n",
    "# print(sentences)\n",
    "\n",
    "# Total sentences\n",
    "print(\"\\nThere are \" + str(len(sentences)) + \" sentences in total.\\n3\")\n",
    "\n",
    "# Key words\n",
    "keyword = ['average', 'temperature', 'distance']\n",
    "\n",
    "# First loop to get into list. (6 sentences, 6 six loops)\n",
    "for total in sentences:\n",
    "    # Second loop to get into keywords. (3 words, 3 loops)\n",
    "    for fact in keyword:\n",
    "        if fact in total:\n",
    "            # Saving items in 'facts'.\n",
    "            facts = total\n",
    "            print(facts)\n",
    "        else: continue\n",
    "\n",
    "# Splitting facts\n",
    "new = facts.split(\"\\n\")\n",
    "\n",
    "for letter in new:\n",
    "    #Changing the letter 'C' in the second fact.\n",
    "    if 'C' in letter:\n",
    "        print(\"\\n\" + letter.replace('C', 'Celsius'))\n",
    "    else: break\n",
    "\n",
    "\n",
    "\n",
    "\n",
    "    \n",
    "    \n",
    "\n",
    "\n"
   ]
  },
  {
   "cell_type": "markdown",
   "metadata": {},
   "source": [
    "# Formateando cadenas"
   ]
  },
  {
   "cell_type": "code",
   "execution_count": 23,
   "metadata": {},
   "outputs": [],
   "source": [
    "# Datos de trabajo\n",
    "moon = input (\"Write the name of the moon: \") # \"Moon\"\n",
    "gravity = float(input (\"Gravity value: \")) # 0.00162 in km\n",
    "conversion = gravity * 1000\n",
    "planet = input (\"Write the name of the planet: \") # \"Earth\""
   ]
  },
  {
   "cell_type": "code",
   "execution_count": 39,
   "metadata": {},
   "outputs": [
    {
     "name": "stdout",
     "output_type": "stream",
     "text": [
      "Gravity Facts About The Moon\n",
      "------------------------------\n",
      "Planet name: Earth\n",
      "Gravity on Moon: 2.0 m/s^2\n",
      "\n"
     ]
    }
   ],
   "source": [
    "# Título\n",
    "get = \"Gravity facts about the\"\n",
    "print(f\"{get.title()} {moon}\\n------------------------------\")\n",
    "\n",
    "# Plantilla\n",
    "plantilla = \"\"\"Planet name: {}\\nGravity on {}: {} m/s^2\\n\"\"\"\n",
    "print(plantilla.format(planet, moon, conversion))"
   ]
  }
 ],
 "metadata": {
  "interpreter": {
   "hash": "33541a670e8887513ebdf0f19cec6625b51694c5ef6b1c7e83282c54d5cd54e5"
  },
  "kernelspec": {
   "display_name": "Python 3.10.0 64-bit",
   "language": "python",
   "name": "python3"
  },
  "language_info": {
   "codemirror_mode": {
    "name": "ipython",
    "version": 3
   },
   "file_extension": ".py",
   "mimetype": "text/x-python",
   "name": "python",
   "nbconvert_exporter": "python",
   "pygments_lexer": "ipython3",
   "version": "3.10.0"
  },
  "orig_nbformat": 4
 },
 "nbformat": 4,
 "nbformat_minor": 2
}
